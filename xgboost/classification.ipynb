{
 "cells": [
  {
   "cell_type": "code",
   "execution_count": 1,
   "metadata": {},
   "outputs": [],
   "source": [
    "import numpy as np"
   ]
  },
  {
   "cell_type": "code",
   "execution_count": 2,
   "metadata": {},
   "outputs": [],
   "source": [
    "#Input data\n",
    "X = np.array([23, 24, 26, 27])\n",
    "Y = np.array([0, 0, 1, 1])"
   ]
  },
  {
   "cell_type": "code",
   "execution_count": 3,
   "metadata": {},
   "outputs": [],
   "source": [
    "#Parameters\n",
    "lr = 0.3\n",
    "depth = 1\n",
    "lambda_ = 0 #regularization parameter"
   ]
  },
  {
   "cell_type": "code",
   "execution_count": 4,
   "metadata": {},
   "outputs": [],
   "source": [
    "#Step 1: Initialize f0 = 0.5\n",
    "f0 = 0.5\n",
    "pre_prob = f0"
   ]
  },
  {
   "cell_type": "code",
   "execution_count": 5,
   "metadata": {},
   "outputs": [
    {
     "name": "stdout",
     "output_type": "stream",
     "text": [
      "Root Similarity Score: 0.0\n"
     ]
    }
   ],
   "source": [
    "#Step 2: Calculate Similarity Score for the root\n",
    "residuals = Y - f0\n",
    "sum_of_residuals = np.sum(residuals)\n",
    "similarity_root = sum_of_residuals**2 / (pre_prob * (1 - pre_prob) + lambda_)\n",
    "print(f\"Root Similarity Score: {similarity_root}\")"
   ]
  },
  {
   "cell_type": "code",
   "execution_count": 6,
   "metadata": {},
   "outputs": [],
   "source": [
    "#Step 3: Calculate Similarity Score for left and right nodes\n",
    "def similarity_score_nodes(Y_left, Y_right, f0, lambda_):\n",
    "    #Calculate residuals for each node\n",
    "    residuals_left = Y_left - f0\n",
    "    residuals_right = Y_right - f0\n",
    "\n",
    "    #Calculate sum of residuals for each node\n",
    "    sum_of_residuals_left = np.sum(residuals_left)\n",
    "    sum_of_residuals_right = np.sum(residuals_right)\n",
    "\n",
    "    #Calculate similarity score for each node\n",
    "    similarity_left = sum_of_residuals_left**2 / (f0 * (1 - f0) + lambda_)\n",
    "    similarity_right = sum_of_residuals_right**2 / (f0 * (1 - f0) + lambda_)\n",
    "\n",
    "    return similarity_left, similarity_right"
   ]
  },
  {
   "cell_type": "code",
   "execution_count": 7,
   "metadata": {},
   "outputs": [
    {
     "name": "stdout",
     "output_type": "stream",
     "text": [
      "Split X < 23.5: Similarity Left = 1.0000, Right = 1.0000, Gain = 2.0000\n",
      "Split X < 25: Similarity Left = 4.0000, Right = 4.0000, Gain = 8.0000\n",
      "Split X < 26.5: Similarity Left = 1.0000, Right = 1.0000, Gain = 2.0000\n"
     ]
    }
   ],
   "source": [
    "# Calculate Similarity Score for each split\n",
    "splits = [23.5, 25, 26.5]\n",
    "gains = []\n",
    "\n",
    "for split in splits:\n",
    "    Y_left = Y[X < split]\n",
    "    Y_right = Y[X >= split]\n",
    "\n",
    "    similarity_left, similarity_right = similarity_score_nodes(Y_left, Y_right, f0, lambda_)\n",
    "    gain = similarity_left + similarity_right - similarity_root\n",
    "    gains.append((gain, split, similarity_left, similarity_right))\n",
    "    print(f\"Split X < {split}: Similarity Left = {similarity_left:.4f}, Right = {similarity_right:.4f}, Gain = {gain:.4f}\")"
   ]
  },
  {
   "cell_type": "code",
   "execution_count": 9,
   "metadata": {},
   "outputs": [
    {
     "name": "stdout",
     "output_type": "stream",
     "text": [
      "Choose Split X < 25 with the highest Gain: 8.0000\n"
     ]
    }
   ],
   "source": [
    "#Step 4: Choose model with the highest gain\n",
    "best_gain, best_split, _, _ = max(gains, key=lambda x: x[0])\n",
    "print(f\"Choose Split X < {best_split} with the highest Gain: {best_gain:.4f}\")"
   ]
  },
  {
   "cell_type": "code",
   "execution_count": 13,
   "metadata": {},
   "outputs": [
    {
     "name": "stdout",
     "output_type": "stream",
     "text": [
      "Output for the Left = -4.0000 \n",
      "Output for the Right = 4.0000\n"
     ]
    }
   ],
   "source": [
    "#Step 5: Calculate Output for left and right nodes\n",
    "Y_left = Y[X < best_split]\n",
    "Y_right = Y[X >= best_split]\n",
    "residuals_left = Y_left - f0\n",
    "residuals_right = Y_right - f0\n",
    "\n",
    "output_left = np.sum(residuals_left) / (f0 * (1 - f0))\n",
    "output_right = np.sum(residuals_right) / (f0 * (1 - f0))\n",
    "\n",
    "print(f\"Output for the Left = {output_left:.4f} \\nOutput for the Right = {output_right:.4f}\")"
   ]
  },
  {
   "cell_type": "code",
   "execution_count": 15,
   "metadata": {},
   "outputs": [
    {
     "name": "stdout",
     "output_type": "stream",
     "text": [
      "Prediction for x = 25:\n",
      "Log Prediction = 1.2000 \n",
      "Probability = 0.7685\n"
     ]
    }
   ],
   "source": [
    "# Step 6: Make prediction for x = 25\n",
    "x_pred = 25\n",
    "if x_pred < best_split:\n",
    "    output = output_left\n",
    "else:\n",
    "    output = output_right\n",
    "\n",
    "log_prediction = np.log(f0 / (1 - f0)) + lr * output\n",
    "predicted_prob = np.exp(log_prediction) / (1 + np.exp(log_prediction))\n",
    "\n",
    "print(f\"Prediction for x = {x_pred}:\\nLog Prediction = {log_prediction:.4f} \\nProbability = {predicted_prob:.4f}\")"
   ]
  }
 ],
 "metadata": {
  "kernelspec": {
   "display_name": "Python 3",
   "language": "python",
   "name": "python3"
  },
  "language_info": {
   "codemirror_mode": {
    "name": "ipython",
    "version": 3
   },
   "file_extension": ".py",
   "mimetype": "text/x-python",
   "name": "python",
   "nbconvert_exporter": "python",
   "pygments_lexer": "ipython3",
   "version": "3.8.0"
  }
 },
 "nbformat": 4,
 "nbformat_minor": 2
}
