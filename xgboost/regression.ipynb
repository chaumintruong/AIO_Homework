{
 "cells": [
  {
   "cell_type": "code",
   "execution_count": 1,
   "metadata": {},
   "outputs": [],
   "source": [
    "import numpy as np"
   ]
  },
  {
   "cell_type": "code",
   "execution_count": 11,
   "metadata": {},
   "outputs": [],
   "source": [
    "#Input data\n",
    "X = np.array([23, 24, 26, 27])\n",
    "Y = np.array([50, 70, 80, 85])"
   ]
  },
  {
   "cell_type": "code",
   "execution_count": 3,
   "metadata": {},
   "outputs": [],
   "source": [
    "#Parameters\n",
    "lr = 0.3\n",
    "depth = 1\n",
    "lambda_ = 0 #regularization parameter"
   ]
  },
  {
   "cell_type": "code",
   "execution_count": 12,
   "metadata": {},
   "outputs": [
    {
     "name": "stdout",
     "output_type": "stream",
     "text": [
      "f0 (initial prediction): 71.25\n"
     ]
    }
   ],
   "source": [
    "#Step 1: Initialize f0 as the mean of Y\n",
    "f0 = np.mean(Y)\n",
    "print(f\"f0 (initial prediction): {f0}\")"
   ]
  },
  {
   "cell_type": "code",
   "execution_count": 13,
   "metadata": {},
   "outputs": [
    {
     "name": "stdout",
     "output_type": "stream",
     "text": [
      "Root Similarity Score: 0.00\n"
     ]
    }
   ],
   "source": [
    "#Step 2: Calculate Similarity Score for the root\n",
    "def similarity_score(residuals, lambda_):\n",
    "    sum_of_residuals = np.sum(residuals)\n",
    "    num_of_residuals = len(residuals)\n",
    "    return sum_of_residuals**2 / (num_of_residuals + lambda_)\n",
    "\n",
    "residuals_root = Y - f0\n",
    "similarity_root = similarity_score(residuals_root, lambda_)\n",
    "print(f\"Root Similarity Score: {similarity_root:.2f}\")"
   ]
  },
  {
   "cell_type": "code",
   "execution_count": 14,
   "metadata": {},
   "outputs": [],
   "source": [
    "#Step 3: Calculate Similarity Scores for left and right nodes\n",
    "def node_similarity(X, Y, f0, split_value, lambda_):\n",
    "    #Split data based on the split_value\n",
    "    left_branch = X < split_value\n",
    "    right_branch = X >= split_value\n",
    "\n",
    "    residuals_left = Y[left_branch] - f0\n",
    "    residuals_right = Y[right_branch] - f0\n",
    "\n",
    "    #Calculate similarity scores\n",
    "    left_similarity = similarity_score(residuals_left, lambda_) if len(residuals_left) > 0 else 0\n",
    "    right_similarity = similarity_score(residuals_right, lambda_) if len(residuals_right) > 0 else 0\n",
    "\n",
    "    return left_similarity, right_similarity"
   ]
  },
  {
   "cell_type": "code",
   "execution_count": 15,
   "metadata": {},
   "outputs": [
    {
     "name": "stdout",
     "output_type": "stream",
     "text": [
      "Gain for split X < 23.5: 602.08\n",
      "Gain for split X < 25: 506.25\n",
      "Gain for split X < 26.5: 252.08\n"
     ]
    }
   ],
   "source": [
    "#Step 4: Calculate Gain for each split\n",
    "splits = [23.5, 25, 26.5]\n",
    "gains = []\n",
    "\n",
    "for split in splits:\n",
    "    left_similarity, right_similarity = node_similarity(X, Y, f0, split, lambda_)\n",
    "    gain = left_similarity + right_similarity - similarity_root\n",
    "    gains.append((gain, split, left_similarity, right_similarity))\n",
    "    print(f\"Gain for split X < {split}: {gain:.2f}\")"
   ]
  },
  {
   "cell_type": "code",
   "execution_count": 16,
   "metadata": {},
   "outputs": [
    {
     "name": "stdout",
     "output_type": "stream",
     "text": [
      "Best split: X < 23.5 with gain: 602.08\n"
     ]
    }
   ],
   "source": [
    "#Step 5: Choose the split with the highest gain\n",
    "best_gain, best_split, best_left_sim, best_right_sim = max(gains, key=lambda x: x[0])\n",
    "print(f\"Best split: X < {best_split} with gain: {best_gain:.2f}\")"
   ]
  },
  {
   "cell_type": "code",
   "execution_count": 17,
   "metadata": {},
   "outputs": [
    {
     "name": "stdout",
     "output_type": "stream",
     "text": [
      "Output for left node: -21.25\n",
      "Output for right node: 7.08\n"
     ]
    }
   ],
   "source": [
    "# Step 6: Calculate Output for left and right nodes\n",
    "def calculate_output(residuals):\n",
    "    return np.sum(residuals) / len(residuals)\n",
    "\n",
    "left_mask = X < best_split\n",
    "right_mask = X >= best_split\n",
    "\n",
    "output_left = calculate_output(Y[left_mask] - f0)\n",
    "output_right = calculate_output(Y[right_mask] - f0)\n",
    "\n",
    "print(f\"Output for left node: {output_left:.2f}\")\n",
    "print(f\"Output for right node: {output_right:.2f}\")"
   ]
  },
  {
   "cell_type": "code",
   "execution_count": 18,
   "metadata": {},
   "outputs": [
    {
     "name": "stdout",
     "output_type": "stream",
     "text": [
      "Prediction for x = 25: 73.38\n"
     ]
    }
   ],
   "source": [
    "# Step 7: Make prediction for x = 25\n",
    "x_test = 25\n",
    "if x_test < best_split:\n",
    "    output = output_left\n",
    "else:\n",
    "    output = output_right\n",
    "\n",
    "prediction = f0 + lr * output\n",
    "print(f\"Prediction for x = {x_test}: {prediction:.2f}\")"
   ]
  }
 ],
 "metadata": {
  "kernelspec": {
   "display_name": "Python 3",
   "language": "python",
   "name": "python3"
  },
  "language_info": {
   "codemirror_mode": {
    "name": "ipython",
    "version": 3
   },
   "file_extension": ".py",
   "mimetype": "text/x-python",
   "name": "python",
   "nbconvert_exporter": "python",
   "pygments_lexer": "ipython3",
   "version": "3.8.0"
  }
 },
 "nbformat": 4,
 "nbformat_minor": 2
}
