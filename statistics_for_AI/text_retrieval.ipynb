{
 "cells": [
  {
   "cell_type": "code",
   "execution_count": 1,
   "metadata": {},
   "outputs": [],
   "source": [
    "import pandas as pd\n",
    "import numpy as np\n",
    "from sklearn.metrics.pairwise import cosine_similarity\n",
    "from sklearn.feature_extraction.text import TfidfVectorizer"
   ]
  },
  {
   "cell_type": "code",
   "execution_count": 56,
   "metadata": {},
   "outputs": [
    {
     "data": {
      "text/plain": [
       "0.31126580760710637"
      ]
     },
     "execution_count": 56,
     "metadata": {},
     "output_type": "execute_result"
    }
   ],
   "source": [
    "vi_data_df = pd.read_csv(\"./vi_text_retrieval.csv\")\n",
    "context = vi_data_df['text']\n",
    "context = [doc.lower() for doc in context]\n",
    "\n",
    "tfidf_vectorizer = TfidfVectorizer()\n",
    "context_embedded = tfidf_vectorizer.fit_transform(context)\n",
    "context_embedded.toarray()[7][0]"
   ]
  },
  {
   "cell_type": "code",
   "execution_count": 73,
   "metadata": {},
   "outputs": [
    {
     "data": {
      "text/plain": [
       "0.6279910475266974"
      ]
     },
     "execution_count": 73,
     "metadata": {},
     "output_type": "execute_result"
    }
   ],
   "source": [
    "def tfidf_search(question, context_embedded, tfidf_vectorizer, top_d=5):\n",
    "    # lowercasing before encoding\n",
    "    query_embedded = tfidf_vectorizer.transform([question])\n",
    "    \n",
    "    # Cosine similarity between the query and all documents\n",
    "    cosine_scores = cosine_similarity(query_embedded, context_embedded).flatten()\n",
    "    \n",
    "    # Get top k cosine score and index its\n",
    "    results = []\n",
    "    for idx in cosine_scores.argsort()[-top_d:][::-1]:\n",
    "        doc_score = {\n",
    "            'id': idx,\n",
    "            'cosine_score': cosine_scores[idx]\n",
    "        }\n",
    "        results.append(doc_score)\n",
    "    return results\n",
    "\n",
    "# Example usage\n",
    "question = vi_data_df.iloc[0]['question']\n",
    "results = tfidf_search(question, context_embedded, tfidf_vectorizer, top_d=5)\n",
    "results[0]['cosine_score']"
   ]
  },
  {
   "cell_type": "code",
   "execution_count": 76,
   "metadata": {},
   "outputs": [
    {
     "name": "stdout",
     "output_type": "stream",
     "text": [
      "0.2114579586225163\n"
     ]
    }
   ],
   "source": [
    "def corr_search(question, context_embedded, tfidf_vectorizer, top_d=5):\n",
    "    # lowercasing before encoding\n",
    "    query_embedded = tfidf_vectorizer.transform([question])\n",
    "    \n",
    "    # Calculate cosine similarity between the query and all documents\n",
    "    corr_scores = cosine_similarity(query_embedded, context_embedded)\n",
    "    \n",
    "    # Flatten the correlation scores array and exclude the first element (self-similarity)\n",
    "    corr_scores = corr_scores[0]\n",
    "    \n",
    "    # Get top k correlation scores and their indices\n",
    "    results = []\n",
    "    for idx in corr_scores.argsort()[-top_d:][::-1]:\n",
    "        doc = {\n",
    "            'id': idx,\n",
    "            'corr_score': corr_scores[idx]\n",
    "        }\n",
    "        results.append(doc)\n",
    "    \n",
    "    return results\n",
    "\n",
    "# Example usage\n",
    "question = vi_data_df.iloc[0]['question']\n",
    "results = corr_search(question, context_embedded, tfidf_vectorizer, top_d=5)\n",
    "print(results[1]['corr_score'])  # Prints the correlation score of the second result\n"
   ]
  }
 ],
 "metadata": {
  "kernelspec": {
   "display_name": "Python 3",
   "language": "python",
   "name": "python3"
  },
  "language_info": {
   "codemirror_mode": {
    "name": "ipython",
    "version": 3
   },
   "file_extension": ".py",
   "mimetype": "text/x-python",
   "name": "python",
   "nbconvert_exporter": "python",
   "pygments_lexer": "ipython3",
   "version": "3.8.0"
  }
 },
 "nbformat": 4,
 "nbformat_minor": 2
}
