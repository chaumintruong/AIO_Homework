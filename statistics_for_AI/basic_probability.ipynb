{
 "cells": [
  {
   "cell_type": "code",
   "execution_count": 2,
   "metadata": {},
   "outputs": [],
   "source": [
    "import numpy as np"
   ]
  },
  {
   "cell_type": "code",
   "execution_count": 4,
   "metadata": {},
   "outputs": [
    {
     "name": "stdout",
     "output_type": "stream",
     "text": [
      "Mean:  1.8\n"
     ]
    }
   ],
   "source": [
    "def compute_mean(x):\n",
    "    '''\n",
    "    total_sum = sum(x)\n",
    "    n = len(x)\n",
    "    mean = total_sum/n\n",
    "    '''\n",
    "    return np.mean(x)\n",
    "\n",
    "x = [2, 0, 2, 2, 7, 4, -2, 5, -1, -1]\n",
    "\n",
    "print(\"Mean: \", compute_mean(x))"
   ]
  },
  {
   "cell_type": "code",
   "execution_count": 8,
   "metadata": {},
   "outputs": [
    {
     "name": "stdout",
     "output_type": "stream",
     "text": [
      "[ 1  4  4  5  9 13]\n",
      "Median:  4.5\n"
     ]
    }
   ],
   "source": [
    "def compute_median(x):\n",
    "    size = len(x)\n",
    "    x = np.sort(x)\n",
    "    print(x)\n",
    "    if (size%2==0):\n",
    "        mid_pos = size//2\n",
    "        return (x[mid_pos] + x[mid_pos-1])/2\n",
    "    else:\n",
    "        mid_pos = (size+1)//2\n",
    "        return x[mid_pos]\n",
    "    \n",
    "x = [1, 5, 4, 4, 9, 13]\n",
    "print(\"Median: \", compute_median(x))"
   ]
  },
  {
   "cell_type": "code",
   "execution_count": 10,
   "metadata": {},
   "outputs": [
    {
     "name": "stdout",
     "output_type": "stream",
     "text": [
      "8.32666399786453\n"
     ]
    }
   ],
   "source": [
    "def compute_std(X):\n",
    "    mean = compute_mean(X)\n",
    "    deviations_sum = sum((x - mean)**2 for x in X)\n",
    "    variance = deviations_sum/len(X)\n",
    "    return np.sqrt(variance)\n",
    "\n",
    "X = [171, 176, 155, 167, 169, 182]\n",
    "print(compute_std(X))"
   ]
  },
  {
   "cell_type": "code",
   "execution_count": 3,
   "metadata": {},
   "outputs": [
    {
     "name": "stdout",
     "output_type": "stream",
     "text": [
      "Correlation:  0.42\n"
     ]
    }
   ],
   "source": [
    "def compute_correlation_coefficient(X, Y):\n",
    "    N = len(X)\n",
    "    sum_x = sum(X)\n",
    "    sum_y = sum(Y)\n",
    "    sum_xy = sum(x * y for x, y in zip(X, Y))\n",
    "    sum_x2 = sum(x ** 2 for x in X)\n",
    "    sum_y2 = sum(y ** 2 for y in Y)\n",
    "    \n",
    "    numerator = N * sum_xy - sum_x * sum_y\n",
    "    denominator = np.sqrt(N * sum_x2 - sum_x ** 2) * np.sqrt(N * sum_y2 - sum_y ** 2)\n",
    "\n",
    "    return np.round(numerator / denominator, 2)\n",
    "\n",
    "X = np.asarray([-2, -5, -11, 6, 4, 15, 9])\n",
    "Y = np.asarray([4, 25, 121, 36, 16, 225, 81])\n",
    "print(\"Correlation: \", compute_correlation_coefficient(X, Y))"
   ]
  }
 ],
 "metadata": {
  "kernelspec": {
   "display_name": "Python 3",
   "language": "python",
   "name": "python3"
  },
  "language_info": {
   "codemirror_mode": {
    "name": "ipython",
    "version": 3
   },
   "file_extension": ".py",
   "mimetype": "text/x-python",
   "name": "python",
   "nbconvert_exporter": "python",
   "pygments_lexer": "ipython3",
   "version": "3.8.0"
  }
 },
 "nbformat": 4,
 "nbformat_minor": 2
}
